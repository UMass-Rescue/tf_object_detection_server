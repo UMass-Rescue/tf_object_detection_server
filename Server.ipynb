{
 "cells": [
  {
   "cell_type": "code",
   "execution_count": 1,
   "metadata": {
    "ExecuteTime": {
     "end_time": "2020-04-13T13:09:57.485931Z",
     "start_time": "2020-04-13T13:09:56.242240Z"
    }
   },
   "outputs": [
    {
     "name": "stderr",
     "output_type": "stream",
     "text": [
      "/home/prasannals/anaconda3/envs/tf_obj/lib/python3.6/site-packages/tensorflow/python/framework/dtypes.py:523: FutureWarning: Passing (type, 1) or '1type' as a synonym of type is deprecated; in a future version of numpy, it will be understood as (type, (1,)) / '(1,)type'.\n",
      "  _np_qint8 = np.dtype([(\"qint8\", np.int8, 1)])\n",
      "/home/prasannals/anaconda3/envs/tf_obj/lib/python3.6/site-packages/tensorflow/python/framework/dtypes.py:524: FutureWarning: Passing (type, 1) or '1type' as a synonym of type is deprecated; in a future version of numpy, it will be understood as (type, (1,)) / '(1,)type'.\n",
      "  _np_quint8 = np.dtype([(\"quint8\", np.uint8, 1)])\n",
      "/home/prasannals/anaconda3/envs/tf_obj/lib/python3.6/site-packages/tensorflow/python/framework/dtypes.py:525: FutureWarning: Passing (type, 1) or '1type' as a synonym of type is deprecated; in a future version of numpy, it will be understood as (type, (1,)) / '(1,)type'.\n",
      "  _np_qint16 = np.dtype([(\"qint16\", np.int16, 1)])\n",
      "/home/prasannals/anaconda3/envs/tf_obj/lib/python3.6/site-packages/tensorflow/python/framework/dtypes.py:526: FutureWarning: Passing (type, 1) or '1type' as a synonym of type is deprecated; in a future version of numpy, it will be understood as (type, (1,)) / '(1,)type'.\n",
      "  _np_quint16 = np.dtype([(\"quint16\", np.uint16, 1)])\n",
      "/home/prasannals/anaconda3/envs/tf_obj/lib/python3.6/site-packages/tensorflow/python/framework/dtypes.py:527: FutureWarning: Passing (type, 1) or '1type' as a synonym of type is deprecated; in a future version of numpy, it will be understood as (type, (1,)) / '(1,)type'.\n",
      "  _np_qint32 = np.dtype([(\"qint32\", np.int32, 1)])\n",
      "/home/prasannals/anaconda3/envs/tf_obj/lib/python3.6/site-packages/tensorflow/python/framework/dtypes.py:532: FutureWarning: Passing (type, 1) or '1type' as a synonym of type is deprecated; in a future version of numpy, it will be understood as (type, (1,)) / '(1,)type'.\n",
      "  np_resource = np.dtype([(\"resource\", np.ubyte, 1)])\n"
     ]
    }
   ],
   "source": [
    "from tf_object_detection_server import TFObjectDetectionServer\n",
    "from pathlib import Path"
   ]
  },
  {
   "cell_type": "code",
   "execution_count": 2,
   "metadata": {
    "ExecuteTime": {
     "end_time": "2020-04-13T13:09:57.490344Z",
     "start_time": "2020-04-13T13:09:57.487514Z"
    }
   },
   "outputs": [],
   "source": [
    "MODEL_NAME = Path('/home/prasannals/models/research/object_detection/faster_rcnn_inception_resnet_v2_atrous_oid_v4_2018_12_12')\n",
    "PATH_TO_FROZEN_GRAPH = MODEL_NAME / 'frozen_inference_graph.pb'\n",
    "PATH_TO_LABELS = MODEL_NAME / 'oid_v4_label_map.pbtxt'"
   ]
  },
  {
   "cell_type": "code",
   "execution_count": 3,
   "metadata": {
    "ExecuteTime": {
     "end_time": "2020-04-13T13:10:05.713695Z",
     "start_time": "2020-04-13T13:09:57.491907Z"
    }
   },
   "outputs": [],
   "source": [
    "server = TFObjectDetectionServer(PATH_TO_FROZEN_GRAPH, PATH_TO_LABELS)"
   ]
  },
  {
   "cell_type": "code",
   "execution_count": 4,
   "metadata": {
    "ExecuteTime": {
     "end_time": "2020-04-13T13:14:57.068841Z",
     "start_time": "2020-04-13T13:10:05.714931Z"
    }
   },
   "outputs": [
    {
     "name": "stdout",
     "output_type": "stream",
     "text": [
      " * Serving Flask app \"tf_object_detection_server.server\" (lazy loading)\n",
      " * Environment: production\n",
      "   WARNING: This is a development server. Do not use it in a production deployment.\n",
      "   Use a production WSGI server instead.\n",
      " * Debug mode: off\n"
     ]
    },
    {
     "name": "stderr",
     "output_type": "stream",
     "text": [
      " * Running on http://127.0.0.1:5000/ (Press CTRL+C to quit)\n",
      "127.0.0.1 - - [13/Apr/2020 09:10:18] \"\u001b[37mGET /get_available_models HTTP/1.1\u001b[0m\" 200 -\n",
      "127.0.0.1 - - [13/Apr/2020 09:10:48] \"\u001b[37mPOST /object_detection HTTP/1.1\u001b[0m\" 200 -\n",
      "127.0.0.1 - - [13/Apr/2020 09:12:21] \"\u001b[37mGET /get_available_models HTTP/1.1\u001b[0m\" 200 -\n",
      "127.0.0.1 - - [13/Apr/2020 09:12:27] \"\u001b[37mPOST /object_detection HTTP/1.1\u001b[0m\" 200 -\n",
      "127.0.0.1 - - [13/Apr/2020 09:14:03] \"\u001b[37mPOST /object_detection HTTP/1.1\u001b[0m\" 200 -\n"
     ]
    }
   ],
   "source": [
    "server.run()"
   ]
  },
  {
   "cell_type": "code",
   "execution_count": null,
   "metadata": {},
   "outputs": [],
   "source": []
  }
 ],
 "metadata": {
  "kernelspec": {
   "display_name": "Python 3.6.10 64-bit ('tf_obj': conda)",
   "language": "python",
   "name": "python361064bittfobjconda3497c33601fe438a97b2a34d91f48b5e"
  },
  "language_info": {
   "codemirror_mode": {
    "name": "ipython",
    "version": 3
   },
   "file_extension": ".py",
   "mimetype": "text/x-python",
   "name": "python",
   "nbconvert_exporter": "python",
   "pygments_lexer": "ipython3",
   "version": "3.6.10"
  }
 },
 "nbformat": 4,
 "nbformat_minor": 4
}
